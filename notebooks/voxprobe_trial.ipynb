{
 "cells": [
  {
   "cell_type": "code",
   "execution_count": 1,
   "id": "f49772b7-aeec-4fbb-9e82-637a3c59769a",
   "metadata": {},
   "outputs": [],
   "source": [
    "from voxprobe.datasets import Dataset\n",
    "from voxprobe.agents import BolnaAgent"
   ]
  },
  {
   "cell_type": "code",
   "execution_count": 2,
   "id": "f950d6b7-8e35-4e2f-8fa4-cffcd07bf54e",
   "metadata": {},
   "outputs": [
    {
     "data": {
      "text/plain": [
       "('You will keep your sentences short and crisp. You will never reply with more than 2 sentences at a time. You will stick to context throughout.\\n\\nRole: You are a front desk assistant for a salon- {salon_name}. Your main responsibilities include answering questions, managing appointment bookings, and addressing customer concerns. Follow the process below to ensure a smooth and professional interaction.\\n\\nProcess Guidelines:\\n\\nInitial Greeting:\\n\\nAlways start by welcoming the user and offering assistance.\\nExample: \"Welcome to {salon_name}! How can I assist you today?\"\\n\\n\\nTask 1: Answering Questions (FAQ Section)\\n\\nIdentify the question: Listen carefully to the user’s inquiry. Confirm their question if needed.\\nProvide clear and concise information: Answer with the relevant details from the FAQ list.\\nOffer additional help: Ask if they need further information or have other questions.\\n\\nTask 2: Managing Appointment Bookings\\n\\nAsk for the preferred time: When a user wants to book, confirm their preferred date and time.\\nCheck availability: Ensure the time falls within the booking hours. Make sure to get the exact day and time for the appointment\\nConfirm the booking: Once the user confirms, provide the date and time of the appointment and any necessary details. Also get the name of the user\\n\\n\\n\\nAlways end with a polite closing, offering further assistance if needed.\\nExample: \"Thank you for reaching out. Let me know if there\\'s anything else I can help you with.\"\\n\\n\\nFrequently Asked Questions (FAQs):\\n\\nWhat services do you offer?\\n\"We offer haircuts, coloring, styling, and treatments. Any specific service you\\'re interested in?\"\\n\\nWhat are your prices?\\n\"Haircuts start at ₹500, and color treatments start at ₹1,500. Would you like a detailed price list?\"\\n\\nWhere is your salon located?\\n\"We’re located at {address}. It’s easily accessible by public transport.\"\\n\\nDo you accept walk-ins?\\n\"Yes, we accept walk-ins, but appointments are recommended to ensure availability.\"\\n\\nDo you offer any discounts or packages?\\n\"Yes, we offer seasonal discounts and packages. Would you like more details?\"\\n\\nAddressing Common Concerns:\\n\\nCustomer is unhappy with a service:\\n\"I’m sorry to hear that you’re unhappy with our service. Can you please tell me more about the issue?\"\\n\"Thank you for sharing this. I\\'ll make sure the owner sees this as soon as they come online.\"\\n\\nCustomer experienced a delay or inconvenience:\\n\\n\"I apologize for the inconvenience. Can you provide more details so we can make it right?\"\\n\"I’ll ensure the owner addresses this issue promptly.\"\\n\\nCustomer found a pricing discrepancy:\\n\\n\"Thank you for bringing this to our attention. Could you tell me where you noticed the discrepancy?\"\\n\"I’ll have the owner review this as soon as possible.\"\\n\\nAny other customer requests, ask them for clear details and tell them that the owner will get to them as soon as possible\\n\\n\\n\\n\\n\\n\\n\\n\\n\\n\\n\\n\\n\\n\\n\\n\\n\\n\\n\\n\\n\\n\\n\\n\\n\\n\\n\\n\\n\\n\\n\\n\\n\\n\\n\\n\\n\\n\\n\\n\\n\\n\\n\\n\\n\\n\\n\\n\\n\\n\\n\\n\\n\\n\\n\\n\\n\\n\\n\\n\\n\\n\\n\\n\\n\\n\\n\\n\\n\\n\\n\\n\\n\\n\\n\\n\\n\\n\\n\\n\\n\\n\\n\\n\\n\\n\\n\\n\\n\\n\\n\\n\\n\\n\\n\\n\\n\\n\\n',\n",
       " 'Hello from {salon_name}, how can I assist you today?')"
      ]
     },
     "execution_count": 2,
     "metadata": {},
     "output_type": "execute_result"
    }
   ],
   "source": [
    "# Pull the bolna agent and the related details from bolna agent\n",
    "\n",
    "bolna_agent = BolnaAgent(api_key = \"\")\n",
    "bolna_agent.pull(agent_id=\"8115efdb-5efa-4bd6-8e06-4a6cfe962108\")\n",
    "agent_prompt, first_message = bolna_agent.get_prompt(agent_id=\"8115efdb-5efa-4bd6-8e06-4a6cfe962108\"), bolna_agent.get_first_message(agent_id=\"8115efdb-5efa-4bd6-8e06-4a6cfe962108\")\n",
    "agent_prompt, first_message"
   ]
  },
  {
   "cell_type": "code",
   "execution_count": 3,
   "id": "06a4650a-11d6-4ba9-a43f-ed7f0b7d308a",
   "metadata": {},
   "outputs": [],
   "source": [
    "dataset = Dataset(agent_prompt)"
   ]
  },
  {
   "cell_type": "code",
   "execution_count": 4,
   "id": "3075162b-e864-435b-b893-3898106782b5",
   "metadata": {},
   "outputs": [],
   "source": [
    "import os\n",
    "os.environ[\"OPENAI_API_KEY\"] = \"\" "
   ]
  },
  {
   "cell_type": "code",
   "execution_count": 5,
   "id": "9e1ad615-6baf-4592-8273-b70a56c2707c",
   "metadata": {},
   "outputs": [
    {
     "name": "stdout",
     "output_type": "stream",
     "text": [
      "Starting dataset generation...\n",
      "Generating agent persona...\n",
      "Generating agent persona...\n",
      "Agent persona generated successfully.\n",
      "Agent persona generated successfully.\n",
      "Generating personas...\n",
      "Generating personas...\n",
      "Generated 12 personas.\n",
      "Generated 12 personas.\n",
      "Generating scenarios and flows...\n",
      "Generating scenarios...\n",
      "Persona: Potential Customer\n",
      "Base prompt: \n",
      "        Task: Generate a comprehensive list of situations that could occur during a phone call for a job profile of Front Desk Assistant, considering the given persona.\n",
      "\n",
      "        Agent Role: Front Desk Assistant\n",
      "        Persona: Potential Customer\n",
      "        Persona Explanation: A potential customer might call to inquire about services offered, pricing, or location details, seeking clear information to decide whether to proceed with engagement.\n",
      "\n",
      "        Let's approach this task step by step:\n",
      "\n",
      "        1. Consider the main goals and potential obstacles in a Front Desk Assistant conversation.\n",
      "        2. Think about how the persona's characteristics might influence the conversation flow.\n",
      "        3. Consider common and uncommon scenarios that might arise during the conversation.\n",
      "\n",
      "        For each situation, provide:\n",
      "        - A brief description of the situation\n",
      "        - Potential conversation flows or decision points\n",
      "\n",
      "        Please provide your response in the following format:\n",
      "\n",
      "        {\n",
      "        \"situations\": [\n",
      "            {\n",
      "                \"situation\": \"Brief name of the situation\",\n",
      "                \"description\": \"\"\n",
      "            },\n",
      "            ...\n",
      "        ]\n",
      "        }\n",
      "\n",
      "        Generate as many relevant situations as possible, considering various combinations of persona traits. Be creative and thorough in your considerations.\n",
      "\n",
      "        Begin your response now:\n",
      "        \n",
      "Generating scenarios for persona: Potential Customer\n",
      "Generated 1 scenarios and hence breaking.\n",
      "Generated 1 scenarios.\n",
      "Starting to generate conversation graph...\n",
      "Generating conversation graph...\n",
      "Conversation graph generated successfully.\n",
      "Generating flows...\n",
      "Generated 20 flows.\n",
      "Generated 1 scenarios and 20 flows.\n",
      "Generating background noises...\n",
      "Generating background noises...\n",
      "Generated 24 background noises.\n",
      "Generated 24 background noises.\n",
      "Generating permutations...\n",
      "Generated 400 permutations.\n",
      "Dataset generation completed successfully.\n"
     ]
    }
   ],
   "source": [
    "dataset.generate_dataset(num_rows = 1)"
   ]
  },
  {
   "cell_type": "code",
   "execution_count": 7,
   "id": "2d366fc2-8da3-4f42-910f-47fd88805b0a",
   "metadata": {},
   "outputs": [
    {
     "name": "stdout",
     "output_type": "stream",
     "text": [
      "Initializing TwilioTester...\n",
      "Starting TwilioTester run...\n",
      "Configuring TwilioTester...\n",
      "Setting up FastAPI...\n",
      "FastAPI setup complete.\n",
      "Starting ngrok...\n",
      "ngrok tunnel established: https://420a-103-5-135-18.ngrok-free.app\n",
      "ngrok started successfully.\n",
      "Setting up Twilio...\n",
      "Updated Twilio number +16502647969 with voice_url: https://420a-103-5-135-18.ngrok-free.app/twilio/callback\n",
      "Twilio setup complete.\n",
      "TwilioTester configuration complete.\n",
      "Starting server...\n",
      "Running test...\n",
      "Test completed.\n",
      "Tearing down...\n",
      "Teardown complete.\n",
      "TwilioTester run completed.\n"
     ]
    },
    {
     "name": "stderr",
     "output_type": "stream",
     "text": [
      "INFO:     Started server process [82395]\n",
      "INFO:     Waiting for application startup.\n",
      "INFO:     Application startup complete.\n",
      "INFO:     Uvicorn running on http://0.0.0.0:8000 (Press CTRL+C to quit)\n"
     ]
    }
   ],
   "source": [
    "from voxprobe.testing.telephony_tester.twilio_tester import TwilioTester\n",
    "\n",
    "# Create an instance of TwilioTester\n",
    "#twilio_tester = TwilioTester(agent, dataset)\n",
    "\n",
    "# Optionally, you can provide Twilio credentials if not set in environment variables\n",
    "twilio_tester = TwilioTester(bolna_agent, dataset, \n",
    "                             twilio_account_sid=\"\",\n",
    "                             twilio_auth_token=\"\",\n",
    "                             twilio_incoming_number=\"\")\n",
    "\n",
    "# Run the tester\n",
    "twilio_tester.run()"
   ]
  }
 ],
 "metadata": {
  "kernelspec": {
   "display_name": "Python 3 (ipykernel)",
   "language": "python",
   "name": "python3"
  },
  "language_info": {
   "codemirror_mode": {
    "name": "ipython",
    "version": 3
   },
   "file_extension": ".py",
   "mimetype": "text/x-python",
   "name": "python",
   "nbconvert_exporter": "python",
   "pygments_lexer": "ipython3",
   "version": "3.10.13"
  }
 },
 "nbformat": 4,
 "nbformat_minor": 5
}
